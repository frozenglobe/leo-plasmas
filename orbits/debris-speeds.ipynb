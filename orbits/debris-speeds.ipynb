{
 "cells": [
  {
   "cell_type": "code",
   "execution_count": 1,
   "id": "349ac3b7",
   "metadata": {},
   "outputs": [],
   "source": [
    "import pandas as pd\n",
    "import numpy as np\n",
    "from kamodo_ccmc.flythrough.utils import ConvertCoord\n",
    "from sgp4.api import Satrec, jday, days2mdhms\n",
    "from datetime import datetime, timezone, timedelta\n",
    "import re\n",
    "import json\n",
    "import configparser\n",
    "import requests\n",
    "import time\n",
    "\n",
    "class MyError(Exception):\n",
    "    def __init___(self,args):\n",
    "        Exception.__init__(self,\"my exception was raised with arguments {0}\".format(args))\n",
    "        self.args = args\n",
    "\n",
    "uriBase                = \"https://www.space-track.org\"\n",
    "requestLogin           = \"/ajaxauth/login\"\n",
    "requestCmdAction       = \"/basicspacedata/query\" \n",
    "\n",
    "config = configparser.ConfigParser()\n",
    "config.read(\"./SpTrack-2.ini\")\n",
    "configUsr = config.get(\"configuration\", \"username\")\n",
    "configPwd = config.get(\"configuration\", \"password\")\n",
    "siteCred = {'identity': configUsr, 'password': configPwd}"
   ]
  },
  {
   "cell_type": "code",
   "execution_count": 2,
   "id": "d24c3192",
   "metadata": {},
   "outputs": [
    {
     "name": "stdout",
     "output_type": "stream",
     "text": [
      "Number to process: 64107\n",
      "Number processed: 64107\n",
      "Max: 9.88 km/s\n",
      "CPU times: total: 5min 21s\n",
      "Wall time: 5min 43s\n"
     ]
    }
   ],
   "source": [
    "%%time\n",
    "\n",
    "norad_range = '<20000'\n",
    "t1 = '2024-08-06'\n",
    "t2 = '2024-08-22'\n",
    "\n",
    "requestFindTLE = \"/class/gp_history/NORAD_CAT_ID/\" + norad_range + \"/OBJECT_TYPE/debris/EPOCH/\" + str(t1) + \"--\" + str(t2) + \"/predicates/object_id,norad_cat_id,object_type,launch_date,decay_date,tle_line1,tle_line2/format/json/\"\n",
    "\n",
    "with requests.Session() as session:\n",
    "    resp = session.post(uriBase + requestLogin, data = siteCred)\n",
    "    if resp.status_code != 200:\n",
    "        raise MyError(resp, \"POST fail on login\")\n",
    "\n",
    "    resp = session.get(uriBase + requestCmdAction + requestFindTLE)\n",
    "    if resp.status_code != 200:\n",
    "        print(resp)\n",
    "        raise MyError(resp, \"GET fail on request for satellites\")\n",
    "\n",
    "    retData = json.loads(resp.text)   \n",
    "session.close()\n",
    "\n",
    "tle = []\n",
    "for t in retData:\n",
    "    tle = np.append(tle, [[t['TLE_LINE1']], [t['TLE_LINE2']]])\n",
    "\n",
    "if len(tle)==0:\n",
    "    raise Exception('No TLEs in search range.')\n",
    "\n",
    "print('Number to process:', int(len(tle)/2))\n",
    "\n",
    "v_list = []\n",
    "for i in range(int(len(tle)/2)):\n",
    "    d1 = 2000 + int(tle[2*i].split()[3][:2]) \n",
    "    d2, d3, t1, t2, t3 = days2mdhms(int(tle[2*i].split()[3][:2]),float(tle[2*i].split()[3][2:]))\n",
    "    jd_deb = np.sum(jday(d1, d2, d3, t1, t2, t3))\n",
    "    e, r, v = Satrec.twoline2rv(tle[2*i], tle[2*i+1]).sgp4(jd_deb,0)\n",
    "    del e, r\n",
    "    v_mag = np.sum(np.array(v)**2)**0.5\n",
    "    v_list = np.append(v_list, v_mag)\n",
    "\n",
    "print('Number processed:', len(v_list))\n",
    "print('Max:', round(np.max(v_list),2), 'km/s')"
   ]
  }
 ],
 "metadata": {
  "kernelspec": {
   "display_name": "Python [conda env:Kamodo_env2]",
   "language": "python",
   "name": "conda-env-Kamodo_env2-py"
  },
  "language_info": {
   "codemirror_mode": {
    "name": "ipython",
    "version": 3
   },
   "file_extension": ".py",
   "mimetype": "text/x-python",
   "name": "python",
   "nbconvert_exporter": "python",
   "pygments_lexer": "ipython3",
   "version": "3.10.14"
  }
 },
 "nbformat": 4,
 "nbformat_minor": 5
}
