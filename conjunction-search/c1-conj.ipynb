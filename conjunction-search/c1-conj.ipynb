{
 "cells": [
  {
   "cell_type": "code",
   "execution_count": 206,
   "id": "758f1709",
   "metadata": {},
   "outputs": [],
   "source": [
    "import json\n",
    "import time\n",
    "from datetime import datetime, timedelta\n",
    "from sgp4.api import Satrec, jday, days2mdhms\n",
    "from conj_gen import pos_tle\n",
    "import numpy as np\n",
    "import pandas as pd"
   ]
  },
  {
   "cell_type": "markdown",
   "id": "5c3f9d24",
   "metadata": {},
   "source": [
    "There is a known conjunction between C1 (26463) and a GPS satellite, which occurred at 2022-03-28 11:28:34.215, with a miss distance of 6248m. This code finds the GPS satellite to check the accuracy of the TLE method.\n",
    "\n",
    "https://www.space-track.org/basicspacedata/query/class/gp_history/EPOCH/2022-03-27--2022-03-29/PERIAPSIS/%3C36000/OBJECT_TYPE/PAYLOAD/LAUNCH_DATE/%3C2022-03-28/DECAY_DATE/null-val/distinct/true/orderby/NORAD_CAT_ID,EPOCH/predicates/norad_cat_id,epoch,launch_date,tle_line1,tle_line2/format/json"
   ]
  },
  {
   "cell_type": "code",
   "execution_count": 199,
   "id": "099c4644",
   "metadata": {},
   "outputs": [
    {
     "name": "stdout",
     "output_type": "stream",
     "text": [
      "Number of TLEs:  41723\n"
     ]
    }
   ],
   "source": [
    "with open(\"c1_2022.json\", 'r') as f:\n",
    "    data = json.load(f)\n",
    "\n",
    "print('Number of TLEs: ', len(data))"
   ]
  },
  {
   "cell_type": "code",
   "execution_count": 185,
   "id": "761fb741",
   "metadata": {},
   "outputs": [],
   "source": [
    "conj_time = datetime(2022,3,28,11,28,34,215000)\n",
    "conj_time_julian = np.sum(jday(2022,3,28,11,28,34),axis=0)\n",
    "norad = []\n",
    "epoch = []\n",
    "tle_line1 = []\n",
    "tle_line2 = []\n",
    "for e in data:\n",
    "    norad.append(int(e['NORAD_CAT_ID']))\n",
    "    epoch.append(datetime.strptime(e['EPOCH'], \"%Y-%m-%dT%H:%M:%S.%f\"))\n",
    "    tle_line1 = np.append(tle_line1, e['TLE_LINE1'])\n",
    "    tle_line2 = np.append(tle_line2, e['TLE_LINE2'])\n",
    "\n",
    "norad_list = sorted(set(norad))"
   ]
  },
  {
   "cell_type": "code",
   "execution_count": 169,
   "id": "940a39af",
   "metadata": {},
   "outputs": [
    {
     "name": "stdout",
     "output_type": "stream",
     "text": [
      "Number of satellites:  7627\n",
      "Number of saved TLEs:  7627\n",
      "Rows to process:  15254\n",
      "CPU times: total: 10.6 s\n",
      "Wall time: 10.6 s\n"
     ]
    }
   ],
   "source": [
    "%%time\n",
    "\n",
    "index = []\n",
    "for i in norad_list:\n",
    "    a = np.nonzero(np.array(norad) == i)\n",
    "    epoch_temp = []\n",
    "    for j in a[0]:\n",
    "        epoch_temp.append(epoch[j])\n",
    "    index.append(a[0][np.argmin(abs(np.array(epoch_temp) - conj_time))])\n",
    "\n",
    "tle_store = []\n",
    "for i in index:\n",
    "    tle_store.append(tle_line1[i])\n",
    "    tle_store.append(tle_line2[i])\n",
    "\n",
    "print('Number of satellites: ', len(norad_list))\n",
    "print('Number of saved TLEs: ', len(index))\n",
    "print('Rows to process: ', len(tle_store))"
   ]
  },
  {
   "cell_type": "code",
   "execution_count": null,
   "id": "6a2beacc",
   "metadata": {},
   "outputs": [],
   "source": [
    "%%time\n",
    "\n",
    "# Time limits\n",
    "sta = np.sum(jday(2022,3,28,11,25,0),axis=0)\n",
    "end = np.sum(jday(2022,3,28,11,35,0),axis=0)\n",
    "jd_range = np.arange(sta,end,1/86400)\n",
    "\n",
    "# C1 TLE\n",
    "index_c1 = np.argmin(abs(np.array(norad_list) - 26463))\n",
    "sat_c1 = Satrec.twoline2rv(tle_store[2*index_c1],tle_store[2*index_c1+1])\n",
    "r_c1 = np.zeros([jd_range.shape[0],3])\n",
    "for i in range(jd_range.shape[0]):\n",
    "    r_c1[i,:] = sat_c1.sgp4(jd_range[i],0)[1]\n",
    "\n",
    "new_norad_list = []\n",
    "min_dist = []\n",
    "min_time = []\n",
    "for i in range(len(index)):\n",
    "    tle1 = tle_store[2*i]\n",
    "    tle2 = tle_store[2*i+1]\n",
    "    sat = Satrec.twoline2rv(tle1,tle2) # reading TLE\n",
    "    r = np.zeros([jd_range.shape[0],3]) # initialising table of positions\n",
    "    for j in range(jd_range.shape[0]):\n",
    "        r[j,:] = sat.sgp4(jd_range[j],0)[1] # obtaining table of x y z\n",
    "    new_norad_list.append(norad_list[i])\n",
    "    dist = (np.sum(abs(r - r_c1)**2, axis=1))**0.5\n",
    "    min_dist.append(np.min(dist))\n",
    "    min_time.append(jd_range[np.argmin(dist)])\n",
    "    \n",
    "new_norad_list = np.array(new_norad_list)\n",
    "min_dist = np.array(min_dist)\n",
    "min_time = np.array(min_time)"
   ]
  },
  {
   "cell_type": "code",
   "execution_count": 204,
   "id": "a1fb1541",
   "metadata": {},
   "outputs": [
    {
     "data": {
      "text/html": [
       "<div>\n",
       "<style scoped>\n",
       "    .dataframe tbody tr th:only-of-type {\n",
       "        vertical-align: middle;\n",
       "    }\n",
       "\n",
       "    .dataframe tbody tr th {\n",
       "        vertical-align: top;\n",
       "    }\n",
       "\n",
       "    .dataframe thead th {\n",
       "        text-align: right;\n",
       "    }\n",
       "</style>\n",
       "<table border=\"1\" class=\"dataframe\">\n",
       "  <thead>\n",
       "    <tr style=\"text-align: right;\">\n",
       "      <th></th>\n",
       "      <th>NORAD</th>\n",
       "      <th>dist-km</th>\n",
       "      <th>time-diff-sec</th>\n",
       "    </tr>\n",
       "  </thead>\n",
       "  <tbody>\n",
       "    <tr>\n",
       "      <th>2060</th>\n",
       "      <td>26463</td>\n",
       "      <td>0.000000</td>\n",
       "      <td>214.000006</td>\n",
       "    </tr>\n",
       "    <tr>\n",
       "      <th>2241</th>\n",
       "      <td>28361</td>\n",
       "      <td>9.488946</td>\n",
       "      <td>2.998817</td>\n",
       "    </tr>\n",
       "  </tbody>\n",
       "</table>\n",
       "</div>"
      ],
      "text/plain": [
       "      NORAD   dist-km  time-diff-sec\n",
       "2060  26463  0.000000     214.000006\n",
       "2241  28361  9.488946       2.998817"
      ]
     },
     "execution_count": 204,
     "metadata": {},
     "output_type": "execute_result"
    }
   ],
   "source": [
    "results = pd.DataFrame({'NORAD': new_norad_list, 'dist-km': min_dist, 'time-diff-sec': abs(min_time - conj_time_julian)*86400})\n",
    "results.loc[results['dist-km'] < 1000]\n",
    "\n",
    "# temp = results['time-diff-sec'].to_numpy()\n",
    "# print(np.max(temp))"
   ]
  },
  {
   "cell_type": "markdown",
   "id": "53064256",
   "metadata": {},
   "source": [
    "The GPS satellite was Navstar 55, or NORAD CAT ID 28361. The miss distance was calculated to be 9489m, some 3km off the true miss distance, and the TCA is off by 3 seconds."
   ]
  },
  {
   "cell_type": "code",
   "execution_count": 208,
   "id": "26d25ee3",
   "metadata": {},
   "outputs": [
    {
     "name": "stdout",
     "output_type": "stream",
     "text": [
      "2022-03-27 00:46:41.357568\n",
      "1 28361U 04023A   22086.03242312 -.00000003  00000-0  00000-0 0  9998\n",
      "2 28361  54.1513 149.2247 0143433 256.7830  96.1424  2.00564058130087\n",
      "2022-03-28 15:07:42.572640\n",
      "1 28361U 04023A   22087.63035385  .00000010  00000-0  00000+0 0  9991\n",
      "2 28361  54.1517 149.1597 0143542 256.7838 169.8820  2.00558414130141\n",
      "2022-03-28 15:07:42.572640\n",
      "1 28361U 04023A   22087.63035385  .00000010  00000-0  00000-0 0  9992\n",
      "2 28361  54.1517 149.1597 0143542 256.7838 169.8820  2.00558414130129\n",
      "1 28361U 04023A   22087.63035385  .00000010  00000-0  00000+0 0  9991\n",
      "2 28361  54.1517 149.1597 0143542 256.7838 169.8820  2.00558414130141\n",
      "Minimum distance:  9.48894559649071\n"
     ]
    }
   ],
   "source": [
    "# Checking which TLE has been selected\n",
    "\n",
    "sat_id = 28361\n",
    "\n",
    "b = np.nonzero(np.array(norad) == sat_id)[0]\n",
    "for i in b:\n",
    "    print(epoch[i])\n",
    "    print(tle_line1[i])\n",
    "    print(tle_line2[i])\n",
    "\n",
    "old_index = np.argmin(abs(np.array(norad_list) - sat_id))\n",
    "print(tle_store[2*old_index])\n",
    "print(tle_store[2*old_index+1])\n",
    "\n",
    "# Verifying my conjunction code works! \n",
    "\n",
    "t1 = pos_tle(tle_store[2*index_c1:2*(index_c1+1)],sta,end)\n",
    "t2 = pos_tle(tle_store[2*old_index:2*(old_index+1)],sta,end)\n",
    "\n",
    "print('Minimum distance: ', np.min(np.sum((t1-t2)**2,axis=1)**0.5))"
   ]
  }
 ],
 "metadata": {
  "kernelspec": {
   "display_name": "Python [conda env:Kamodo_env2]",
   "language": "python",
   "name": "conda-env-Kamodo_env2-py"
  },
  "language_info": {
   "codemirror_mode": {
    "name": "ipython",
    "version": 3
   },
   "file_extension": ".py",
   "mimetype": "text/x-python",
   "name": "python",
   "nbconvert_exporter": "python",
   "pygments_lexer": "ipython3",
   "version": "3.10.14"
  }
 },
 "nbformat": 4,
 "nbformat_minor": 5
}
