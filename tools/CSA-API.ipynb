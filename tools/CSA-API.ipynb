{
 "cells": [
  {
   "cell_type": "code",
   "execution_count": 10,
   "id": "9ba2ab23",
   "metadata": {},
   "outputs": [],
   "source": [
    "import requests"
   ]
  },
  {
   "cell_type": "code",
   "execution_count": 11,
   "id": "755d01d2",
   "metadata": {},
   "outputs": [],
   "source": [
    "uriBase                = \"https://csa.esac.esa.int/csa-sl-tap/data\"\n",
    "requestLogin           = \"https://csa.esac.esa.int/csa-sl-tap/login\""
   ]
  },
  {
   "cell_type": "code",
   "execution_count": 29,
   "id": "0b937d1b",
   "metadata": {},
   "outputs": [
    {
     "name": "stdout",
     "output_type": "stream",
     "text": [
      "CPU times: total: 31.2 ms\n",
      "Wall time: 12.3 s\n"
     ]
    }
   ],
   "source": [
    "%%time\n",
    "\n",
    "def download(url, params, file_name):\n",
    "    with open(file_name, \"wb\") as file:\n",
    "        resp = requests.get(url, params=params)\n",
    "        file.write(resp.content)\n",
    "\n",
    "query_specs = {'RETRIEVAL_TYPE': 'product',\n",
    "               'DATASET_ID': 'C2_CP_WHI_ELECTRON_DENSITY',\n",
    "               'START_DATE': '2011-12-01T00:00:00Z',\n",
    "               'END_DATE': '2012-01-01T00:00:00Z',\n",
    "               'DELIVERY_FORMAT': 'CDF',\n",
    "               'DELIVERY_INTERVAL': 'All'}\n",
    "\n",
    "download(uriBase, query_specs, 'tap_download.tgz')"
   ]
  }
 ],
 "metadata": {
  "kernelspec": {
   "display_name": "Python [conda env:Kamodo_env2]",
   "language": "python",
   "name": "conda-env-Kamodo_env2-py"
  },
  "language_info": {
   "codemirror_mode": {
    "name": "ipython",
    "version": 3
   },
   "file_extension": ".py",
   "mimetype": "text/x-python",
   "name": "python",
   "nbconvert_exporter": "python",
   "pygments_lexer": "ipython3",
   "version": "3.10.14"
  }
 },
 "nbformat": 4,
 "nbformat_minor": 5
}
