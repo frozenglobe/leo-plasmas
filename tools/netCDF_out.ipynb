{
 "cells": [
  {
   "cell_type": "markdown",
   "id": "0108460a",
   "metadata": {},
   "source": [
    "### Process CLUSTER files (e.g. WHISPER) and outputs as netCDF"
   ]
  },
  {
   "cell_type": "code",
   "execution_count": 52,
   "id": "911e2e74",
   "metadata": {},
   "outputs": [],
   "source": [
    "import pandas as pd\n",
    "import numpy as np\n",
    "import cdflib\n",
    "from sgp4.api import Satrec, jday\n",
    "from datetime import datetime\n",
    "import xarray as xr\n",
    "import re\n",
    "import os"
   ]
  },
  {
   "cell_type": "markdown",
   "id": "145c8fbe",
   "metadata": {},
   "source": [
    "Need to change data['example-z-var']"
   ]
  },
  {
   "cell_type": "code",
   "execution_count": 54,
   "id": "a3282054",
   "metadata": {},
   "outputs": [
    {
     "name": "stderr",
     "output_type": "stream",
     "text": [
      "C:\\Users\\jess\\AppData\\Local\\Temp\\ipykernel_57396\\363051226.py:13: UserWarning: Converting non-nanosecond precision datetime values to nanosecond precision. This behavior can eventually be relaxed in xarray, as it is an artifact from pandas which is now beginning to support non-nanosecond precision values. This warning is caused by passing non-nanosecond np.datetime64 or np.timedelta64 values to the DataArray or Variable constructor; it can be silenced by converting the values to nanosecond precision ahead of time.\n",
      "  out = xr.DataArray(espd, dims=(\"t\",\"f\"), coords = {\"t\": dt, \"f\": freq})\n",
      "C:\\Users\\jess\\AppData\\Local\\Temp\\ipykernel_57396\\363051226.py:13: UserWarning: Converting non-nanosecond precision datetime values to nanosecond precision. This behavior can eventually be relaxed in xarray, as it is an artifact from pandas which is now beginning to support non-nanosecond precision values. This warning is caused by passing non-nanosecond np.datetime64 or np.timedelta64 values to the DataArray or Variable constructor; it can be silenced by converting the values to nanosecond precision ahead of time.\n",
      "  out = xr.DataArray(espd, dims=(\"t\",\"f\"), coords = {\"t\": dt, \"f\": freq})\n",
      "C:\\Users\\jess\\AppData\\Local\\Temp\\ipykernel_57396\\363051226.py:13: UserWarning: Converting non-nanosecond precision datetime values to nanosecond precision. This behavior can eventually be relaxed in xarray, as it is an artifact from pandas which is now beginning to support non-nanosecond precision values. This warning is caused by passing non-nanosecond np.datetime64 or np.timedelta64 values to the DataArray or Variable constructor; it can be silenced by converting the values to nanosecond precision ahead of time.\n",
      "  out = xr.DataArray(espd, dims=(\"t\",\"f\"), coords = {\"t\": dt, \"f\": freq})\n",
      "C:\\Users\\jess\\AppData\\Local\\Temp\\ipykernel_57396\\363051226.py:13: UserWarning: Converting non-nanosecond precision datetime values to nanosecond precision. This behavior can eventually be relaxed in xarray, as it is an artifact from pandas which is now beginning to support non-nanosecond precision values. This warning is caused by passing non-nanosecond np.datetime64 or np.timedelta64 values to the DataArray or Variable constructor; it can be silenced by converting the values to nanosecond precision ahead of time.\n",
      "  out = xr.DataArray(espd, dims=(\"t\",\"f\"), coords = {\"t\": dt, \"f\": freq})\n",
      "C:\\Users\\jess\\AppData\\Local\\Temp\\ipykernel_57396\\363051226.py:13: UserWarning: Converting non-nanosecond precision datetime values to nanosecond precision. This behavior can eventually be relaxed in xarray, as it is an artifact from pandas which is now beginning to support non-nanosecond precision values. This warning is caused by passing non-nanosecond np.datetime64 or np.timedelta64 values to the DataArray or Variable constructor; it can be silenced by converting the values to nanosecond precision ahead of time.\n",
      "  out = xr.DataArray(espd, dims=(\"t\",\"f\"), coords = {\"t\": dt, \"f\": freq})\n",
      "C:\\Users\\jess\\AppData\\Local\\Temp\\ipykernel_57396\\363051226.py:13: UserWarning: Converting non-nanosecond precision datetime values to nanosecond precision. This behavior can eventually be relaxed in xarray, as it is an artifact from pandas which is now beginning to support non-nanosecond precision values. This warning is caused by passing non-nanosecond np.datetime64 or np.timedelta64 values to the DataArray or Variable constructor; it can be silenced by converting the values to nanosecond precision ahead of time.\n",
      "  out = xr.DataArray(espd, dims=(\"t\",\"f\"), coords = {\"t\": dt, \"f\": freq})\n",
      "C:\\Users\\jess\\AppData\\Local\\Temp\\ipykernel_57396\\363051226.py:13: UserWarning: Converting non-nanosecond precision datetime values to nanosecond precision. This behavior can eventually be relaxed in xarray, as it is an artifact from pandas which is now beginning to support non-nanosecond precision values. This warning is caused by passing non-nanosecond np.datetime64 or np.timedelta64 values to the DataArray or Variable constructor; it can be silenced by converting the values to nanosecond precision ahead of time.\n",
      "  out = xr.DataArray(espd, dims=(\"t\",\"f\"), coords = {\"t\": dt, \"f\": freq})\n",
      "C:\\Users\\jess\\AppData\\Local\\Temp\\ipykernel_57396\\363051226.py:13: UserWarning: Converting non-nanosecond precision datetime values to nanosecond precision. This behavior can eventually be relaxed in xarray, as it is an artifact from pandas which is now beginning to support non-nanosecond precision values. This warning is caused by passing non-nanosecond np.datetime64 or np.timedelta64 values to the DataArray or Variable constructor; it can be silenced by converting the values to nanosecond precision ahead of time.\n",
      "  out = xr.DataArray(espd, dims=(\"t\",\"f\"), coords = {\"t\": dt, \"f\": freq})\n",
      "C:\\Users\\jess\\AppData\\Local\\Temp\\ipykernel_57396\\363051226.py:13: UserWarning: Converting non-nanosecond precision datetime values to nanosecond precision. This behavior can eventually be relaxed in xarray, as it is an artifact from pandas which is now beginning to support non-nanosecond precision values. This warning is caused by passing non-nanosecond np.datetime64 or np.timedelta64 values to the DataArray or Variable constructor; it can be silenced by converting the values to nanosecond precision ahead of time.\n",
      "  out = xr.DataArray(espd, dims=(\"t\",\"f\"), coords = {\"t\": dt, \"f\": freq})\n",
      "C:\\Users\\jess\\AppData\\Local\\Temp\\ipykernel_57396\\363051226.py:13: UserWarning: Converting non-nanosecond precision datetime values to nanosecond precision. This behavior can eventually be relaxed in xarray, as it is an artifact from pandas which is now beginning to support non-nanosecond precision values. This warning is caused by passing non-nanosecond np.datetime64 or np.timedelta64 values to the DataArray or Variable constructor; it can be silenced by converting the values to nanosecond precision ahead of time.\n",
      "  out = xr.DataArray(espd, dims=(\"t\",\"f\"), coords = {\"t\": dt, \"f\": freq})\n",
      "C:\\Users\\jess\\AppData\\Local\\Temp\\ipykernel_57396\\363051226.py:13: UserWarning: Converting non-nanosecond precision datetime values to nanosecond precision. This behavior can eventually be relaxed in xarray, as it is an artifact from pandas which is now beginning to support non-nanosecond precision values. This warning is caused by passing non-nanosecond np.datetime64 or np.timedelta64 values to the DataArray or Variable constructor; it can be silenced by converting the values to nanosecond precision ahead of time.\n",
      "  out = xr.DataArray(espd, dims=(\"t\",\"f\"), coords = {\"t\": dt, \"f\": freq})\n",
      "C:\\Users\\jess\\AppData\\Local\\Temp\\ipykernel_57396\\363051226.py:13: UserWarning: Converting non-nanosecond precision datetime values to nanosecond precision. This behavior can eventually be relaxed in xarray, as it is an artifact from pandas which is now beginning to support non-nanosecond precision values. This warning is caused by passing non-nanosecond np.datetime64 or np.timedelta64 values to the DataArray or Variable constructor; it can be silenced by converting the values to nanosecond precision ahead of time.\n",
      "  out = xr.DataArray(espd, dims=(\"t\",\"f\"), coords = {\"t\": dt, \"f\": freq})\n",
      "C:\\Users\\jess\\AppData\\Local\\Temp\\ipykernel_57396\\363051226.py:13: UserWarning: Converting non-nanosecond precision datetime values to nanosecond precision. This behavior can eventually be relaxed in xarray, as it is an artifact from pandas which is now beginning to support non-nanosecond precision values. This warning is caused by passing non-nanosecond np.datetime64 or np.timedelta64 values to the DataArray or Variable constructor; it can be silenced by converting the values to nanosecond precision ahead of time.\n",
      "  out = xr.DataArray(espd, dims=(\"t\",\"f\"), coords = {\"t\": dt, \"f\": freq})\n",
      "C:\\Users\\jess\\AppData\\Local\\Temp\\ipykernel_57396\\363051226.py:13: UserWarning: Converting non-nanosecond precision datetime values to nanosecond precision. This behavior can eventually be relaxed in xarray, as it is an artifact from pandas which is now beginning to support non-nanosecond precision values. This warning is caused by passing non-nanosecond np.datetime64 or np.timedelta64 values to the DataArray or Variable constructor; it can be silenced by converting the values to nanosecond precision ahead of time.\n",
      "  out = xr.DataArray(espd, dims=(\"t\",\"f\"), coords = {\"t\": dt, \"f\": freq})\n"
     ]
    },
    {
     "name": "stderr",
     "output_type": "stream",
     "text": [
      "C:\\Users\\jess\\AppData\\Local\\Temp\\ipykernel_57396\\363051226.py:13: UserWarning: Converting non-nanosecond precision datetime values to nanosecond precision. This behavior can eventually be relaxed in xarray, as it is an artifact from pandas which is now beginning to support non-nanosecond precision values. This warning is caused by passing non-nanosecond np.datetime64 or np.timedelta64 values to the DataArray or Variable constructor; it can be silenced by converting the values to nanosecond precision ahead of time.\n",
      "  out = xr.DataArray(espd, dims=(\"t\",\"f\"), coords = {\"t\": dt, \"f\": freq})\n"
     ]
    }
   ],
   "source": [
    "dir_path = \"./natural\"\n",
    "files = os.listdir(dir_path)\n",
    "i=0\n",
    "for file in files:\n",
    "    i+=1\n",
    "    if file.endswith(\".cdf\"):\n",
    "        file_path = os.path.join(dir_path, file)\n",
    "        data = cdflib.CDF(file_path)\n",
    "        espd = data['Electric_Spectral_Power_Density__C2_CP_WHI_NATURAL']\n",
    "        time = data['time_tags__C2_CP_WHI_NATURAL']\n",
    "        freq = data['Spectral_Frequencies__C2_CP_WHI_NATURAL']\n",
    "        dt = pd.to_datetime(cdflib.cdfepoch.to_datetime(time))\n",
    "        out = xr.DataArray(espd, dims=(\"t\",\"f\"), coords = {\"t\": dt, \"f\": freq})\n",
    "        out.to_netcdf('whi'+str(i)+'.nc')"
   ]
  },
  {
   "cell_type": "code",
   "execution_count": 66,
   "id": "40d44d4e",
   "metadata": {},
   "outputs": [
    {
     "name": "stdout",
     "output_type": "stream",
     "text": [
      "<xarray.Dataset> Size: 12MB\n",
      "Dimensions:                        (t: 58481, f: 50)\n",
      "Coordinates:\n",
      "  * t                              (t) datetime64[ns] 468kB 2011-04-03T00:00:...\n",
      "  * f                              (f) float32 200B 1.953 2.116 ... 9.766 9.928\n",
      "Data variables:\n",
      "    __xarray_dataarray_variable__  (t, f) float32 12MB ...\n"
     ]
    }
   ],
   "source": [
    "whi7 = xr.open_dataset(\"whi7.nc\")\n",
    "print(whi7.sel(f=slice(1,10),t=slice(\"2011-04-03\",\"2011-04-04\")))"
   ]
  }
 ],
 "metadata": {
  "kernelspec": {
   "display_name": "Python [conda env:Kamodo_env2]",
   "language": "python",
   "name": "conda-env-Kamodo_env2-py"
  },
  "language_info": {
   "codemirror_mode": {
    "name": "ipython",
    "version": 3
   },
   "file_extension": ".py",
   "mimetype": "text/x-python",
   "name": "python",
   "nbconvert_exporter": "python",
   "pygments_lexer": "ipython3",
   "version": "3.10.14"
  }
 },
 "nbformat": 4,
 "nbformat_minor": 5
}
