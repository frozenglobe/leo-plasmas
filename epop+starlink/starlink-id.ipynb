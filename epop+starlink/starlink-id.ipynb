{
 "cells": [
  {
   "cell_type": "code",
   "execution_count": 1,
   "id": "aeb35fef",
   "metadata": {},
   "outputs": [],
   "source": [
    "import os\n",
    "import numpy as np\n",
    "import re\n",
    "import pandas as pd\n",
    "import requests\n",
    "import configparser\n",
    "import functions_1 as fn\n",
    "import json\n",
    "from datetime import datetime"
   ]
  },
  {
   "cell_type": "code",
   "execution_count": 2,
   "id": "e9920963",
   "metadata": {
    "scrolled": false
   },
   "outputs": [],
   "source": [
    "a = pd.read_pickle('epop_conj_list.pkl')"
   ]
  },
  {
   "cell_type": "code",
   "execution_count": 3,
   "id": "6cd9998b",
   "metadata": {},
   "outputs": [
    {
     "name": "stdout",
     "output_type": "stream",
     "text": [
      "CPU times: total: 15.6 ms\n",
      "Wall time: 1.08 s\n"
     ]
    }
   ],
   "source": [
    "%%time\n",
    "id_list = ''\n",
    "for i in a['id']:\n",
    "    id_list+=(str(i)+',')\n",
    "\n",
    "id_list = id_list[:-1]\n",
    "\n",
    "config = configparser.ConfigParser()\n",
    "config.read('SpTrack-2.ini')\n",
    "configUsr = config.get(\"configuration\",\"username\")\n",
    "configPwd = config.get(\"configuration\",\"password\")\n",
    "siteCred = {'identity': configUsr, 'password': configPwd}\n",
    "\n",
    "with requests.Session() as session:\n",
    "    resp = session.post('https://www.space-track.org/ajaxauth/login', data = siteCred)\n",
    "    if resp.status_code != 200:\n",
    "        raise MyError(resp, \"POST fail on login\")\n",
    "\n",
    "    resp = session.get('https://www.space-track.org/basicspacedata/query/class/satcat/NORAD_CAT_ID/' + id_list + '/predicates/NORAD_CAT_ID,SATNAME/format/json')\n",
    "    if resp.status_code != 200:\n",
    "        print(resp)\n",
    "        raise MyError(resp, \"GET fail on request for satellites\")\n",
    "\n",
    "    sat_name = []\n",
    "    sat_id = []\n",
    "    retData = json.loads(resp.text)\n",
    "    for e in retData:\n",
    "        sat_name.append(e['SATNAME'])\n",
    "        sat_id.append(e['NORAD_CAT_ID'])\n",
    "\n",
    "session.close()"
   ]
  },
  {
   "cell_type": "code",
   "execution_count": 4,
   "id": "a3e9aae7",
   "metadata": {},
   "outputs": [],
   "source": [
    "b = [idx for idx, s in enumerate(sat_name) if 'STARLINK' in s]\n",
    "id_arr = np.array([int(i) for i in sat_id])[b]\n",
    "name_arr = np.array(sat_name)[b]"
   ]
  },
  {
   "cell_type": "code",
   "execution_count": 5,
   "id": "dd3c352f",
   "metadata": {},
   "outputs": [],
   "source": [
    "sl_df = a[a['id'].isin(id_arr)]\n",
    "lookup = pd.DataFrame({'name':name_arr},index=id_arr)\n",
    "\n",
    "name_list = []\n",
    "for i in sl_df['id']:\n",
    "    name_list.append(lookup.loc[i].values[0])\n",
    "\n",
    "name_list = np.array(name_list)\n",
    "sl_df = sl_df.assign(name=name_list)"
   ]
  },
  {
   "cell_type": "code",
   "execution_count": 6,
   "id": "4d6fb75b",
   "metadata": {},
   "outputs": [],
   "source": [
    "# sl_df.to_pickle('starlink_epop_2023.pkl') # list of Starlink satellites that have recorded conjunctions with e-POP"
   ]
  }
 ],
 "metadata": {
  "kernelspec": {
   "display_name": "Python [conda env:spedas]",
   "language": "python",
   "name": "conda-env-spedas-py"
  },
  "language_info": {
   "codemirror_mode": {
    "name": "ipython",
    "version": 3
   },
   "file_extension": ".py",
   "mimetype": "text/x-python",
   "name": "python",
   "nbconvert_exporter": "python",
   "pygments_lexer": "ipython3",
   "version": "3.10.14"
  }
 },
 "nbformat": 4,
 "nbformat_minor": 5
}
